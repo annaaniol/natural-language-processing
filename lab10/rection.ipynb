{
 "cells": [
  {
   "cell_type": "code",
   "execution_count": 142,
   "metadata": {},
   "outputs": [],
   "source": [
    "import os\n",
    "import string\n",
    "import operator"
   ]
  },
  {
   "cell_type": "code",
   "execution_count": 23,
   "metadata": {},
   "outputs": [],
   "source": [
    "cwd = os.getcwd()\n",
    "potop_sourcefile = cwd + \"/../lab2/sources/potop.txt\"\n",
    "popul_sourcefile = cwd + \"/../lab4/sources/popul.txt\"\n",
    "\n",
    "polimorf = \"./PoliMorf-0.6.7.tab\""
   ]
  },
  {
   "cell_type": "code",
   "execution_count": null,
   "metadata": {},
   "outputs": [],
   "source": [
    "# mianownik - nominative - nom\n",
    "# dopełniacz - genitive - gen\n",
    "# celownik - dative - dat\n",
    "# biernik - accusative - acc\n",
    "# narzędnik - instrumental case - inst\n",
    "# miejscownik - locative case - loc\n",
    "# wołacz - vocative case - voc\n",
    "\n",
    "# przyimek - preposition - prep"
   ]
  },
  {
   "cell_type": "code",
   "execution_count": 175,
   "metadata": {},
   "outputs": [],
   "source": [
    "examined_words = ['badać', 'mieć', 'widzieć', 'przebywać', 'mówić', 'być']"
   ]
  },
  {
   "cell_type": "code",
   "execution_count": 176,
   "metadata": {},
   "outputs": [],
   "source": [
    "subst_to_rection = {}\n",
    "examined_form_to_base = {}\n",
    "verb_attributes = ['fin', 'praet', 'inf', 'impt', 'imps']\n",
    "prepositions = []\n",
    "\n",
    "with open(polimorf,'r') as f:\n",
    "    for line in f:\n",
    "        record = line.split()\n",
    "        \n",
    "        token = record[0]\n",
    "        base = record[1]\n",
    "            \n",
    "        all_attributes = record[2]\n",
    "        attributes = all_attributes.split(':')\n",
    "        part = attributes[0]\n",
    "        \n",
    "        if part == 'prep':\n",
    "            prepositions.append(token)\n",
    "                \n",
    "        if base in examined_words and part in verb_attributes:\n",
    "            examined_form_to_base[token] = base\n",
    "            # print(token, part)\n",
    "        \n",
    "        \n",
    "        if part == 'subst':\n",
    "            rection = attributes[2]\n",
    "            subst_to_rection[token] = rection"
   ]
  },
  {
   "cell_type": "code",
   "execution_count": 177,
   "metadata": {},
   "outputs": [],
   "source": [
    "result = {}\n",
    "for word in examined_words:\n",
    "    res = {}\n",
    "    res['nom'] = 0\n",
    "    res['gen'] = 0\n",
    "    res['dat'] = 0\n",
    "    res['acc'] = 0\n",
    "    res['inst'] = 0\n",
    "    res['loc'] = 0\n",
    "    res['voc'] = 0\n",
    "    result[word] = res"
   ]
  },
  {
   "cell_type": "code",
   "execution_count": 178,
   "metadata": {},
   "outputs": [
    {
     "name": "stdout",
     "output_type": "stream",
     "text": [
      "['a', 'ad', 'aniżeli', 'beze', 'bez', 'co', 'co', 'contra', 'dla', 'do', 'dokoła', 'dookoła', 'dzięki', 'gwoli', 'gwoli', 'jak', 'jako', 'k', 'koło', 'kontra', 'krom', 'kromia', 'kromie', 'ku', 'kwoli', 'kwoli', 'la', 'lada', 'loco', 'loko', 'miast', 'miasto', 'między', 'między', 'mimo', 'na', 'na', 'nade', 'nad', 'nade', 'nad', 'naokoło', 'naprzeciw', 'naprzeciw', 'naprzeciwko', 'naprzeciwko', 'niby', 'niczym', 'nieopodal', 'niźli', 'niż', 'niżeli', 'niżli', 'o', 'o', 'obok', 'od', 'ode', 'około', 'okrom', 'opodal', 'oprócz', 'per', 'po', 'po', 'pobocz', 'pobok', 'pode', 'pod', 'pod', 'pode', 'podal', 'podczas', 'podle', 'podług', 'pomiędzy', 'pomiędzy', 'pomimo', 'ponade', 'ponade', 'ponad', 'ponad', 'poniżej', 'popode', 'popode', 'popod', 'popod', 'poprzez', 'poprzeze', 'pośrodku', 'pośród', 'powyżej', 'poza', 'poza', 'prócz', 'prze', 'przeciw', 'przeciwko', 'przed', 'przede', 'przede', 'przed', 'przeze', 'przez', 'przy', 'skrony', 'skroś', 'skroś', 'skróś', 'skróś', 'spod', 'spode', 'spomiędzy', 'sponade', 'sponad', 'spopod', 'spopode', 'spośród', 'spoza', 'sprzede', 'sprzed', 'śród', 'temu', 'u', 'via', 'vis-à-vis', 'w', 'we', 'w', 'we', 'wbrew', 'wedle', 'według', 'wewnątrz', 'wkoło', 'wobec', 'wokoło', 'wokół', 'wskroś', 'wskróś', 'wskutek', 'wspak', 'wśród', 'wśrzód', 'wyjąwszy', 'wzdłuż', 'względem', 'z', 'ze', 'z', 'ze', 'ze', 'z', 'za', 'za', 'za', 'zamiast', 'zewnątrz', 'znade', 'znad', 'zśród', 'zza']\n"
     ]
    }
   ],
   "source": [
    "print(prepositions)"
   ]
  },
  {
   "cell_type": "code",
   "execution_count": 179,
   "metadata": {},
   "outputs": [],
   "source": [
    "with open(popul_sourcefile,'r') as f:\n",
    "    flag = False\n",
    "    for line in f:\n",
    "        for word in line.split():\n",
    "            word = word.translate(str.maketrans({key: None for key in string.punctuation}))\n",
    "\n",
    "            if flag:\n",
    "                if word in subst_to_rection.keys():\n",
    "                    rection = subst_to_rection[word]\n",
    "                    result[previous_word_base][rection] += 1\n",
    "                    flag = False\n",
    "                elif word in prepositions:\n",
    "                    flag = True   # no change here\n",
    "                else:\n",
    "                    flag = False\n",
    "\n",
    "            if word in examined_form_to_base.keys():\n",
    "                flag = True\n",
    "                previous_word_base = examined_form_to_base[word]"
   ]
  },
  {
   "cell_type": "code",
   "execution_count": 180,
   "metadata": {},
   "outputs": [
    {
     "name": "stdout",
     "output_type": "stream",
     "text": [
      "{'badać': {'nom': 1, 'gen': 0, 'dat': 0, 'acc': 3, 'inst': 1, 'loc': 0, 'voc': 3}, 'mieć': {'nom': 30, 'gen': 34, 'dat': 7, 'acc': 55, 'inst': 9, 'loc': 8, 'voc': 13}, 'widzieć': {'nom': 4, 'gen': 2, 'dat': 1, 'acc': 8, 'inst': 0, 'loc': 4, 'voc': 0}, 'przebywać': {'nom': 2, 'gen': 0, 'dat': 0, 'acc': 0, 'inst': 0, 'loc': 4, 'voc': 2}, 'mówić': {'nom': 3, 'gen': 0, 'dat': 1, 'acc': 2, 'inst': 1, 'loc': 5, 'voc': 1}, 'być': {'nom': 293, 'gen': 74, 'dat': 32, 'acc': 101, 'inst': 183, 'loc': 57, 'voc': 85}}\n"
     ]
    }
   ],
   "source": [
    "print(result)"
   ]
  },
  {
   "cell_type": "code",
   "execution_count": 181,
   "metadata": {},
   "outputs": [
    {
     "name": "stdout",
     "output_type": "stream",
     "text": [
      "badać -> acc\n",
      "mieć -> acc\n",
      "widzieć -> acc\n",
      "przebywać -> loc\n",
      "mówić -> loc\n",
      "być -> nom\n"
     ]
    }
   ],
   "source": [
    "for res in result.items():\n",
    "    stats = res[1]\n",
    "    print(res[0], '->', max(stats.items(), key=operator.itemgetter(1))[0])\n"
   ]
  },
  {
   "cell_type": "code",
   "execution_count": null,
   "metadata": {},
   "outputs": [],
   "source": []
  }
 ],
 "metadata": {
  "kernelspec": {
   "display_name": "Python 3",
   "language": "python",
   "name": "python3"
  },
  "language_info": {
   "codemirror_mode": {
    "name": "ipython",
    "version": 3
   },
   "file_extension": ".py",
   "mimetype": "text/x-python",
   "name": "python",
   "nbconvert_exporter": "python",
   "pygments_lexer": "ipython3",
   "version": "3.6.4"
  }
 },
 "nbformat": 4,
 "nbformat_minor": 2
}
