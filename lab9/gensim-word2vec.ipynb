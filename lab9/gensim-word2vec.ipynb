{
 "cells": [
  {
   "cell_type": "code",
   "execution_count": 28,
   "metadata": {},
   "outputs": [],
   "source": [
    "from gensim.models import Word2Vec"
   ]
  },
  {
   "cell_type": "code",
   "execution_count": 125,
   "metadata": {},
   "outputs": [],
   "source": [
    "import os\n",
    "cwd = os.getcwd()\n",
    "sourcefile = cwd + \"/sources/wiki.xml\"\n",
    "pap_sourcefile = cwd + \"/../lab6/sources/pap.txt\"\n",
    "potop_sourcefile = cwd + \"/../lab2/sources/potop.txt\"\n",
    "popul_sourcefile = cwd + \"/../lab4/sources/popul.txt\"\n",
    "popul_sourcefile = cwd + \"/../lab4/sources/popul.txt\"\n",
    "publ_sourcefile = cwd + \"/../lab4/sources/publ.txt\"\n",
    "page_tag = \"{http://www.mediawiki.org/xml/export-0.10/}page\"\n",
    "text_tag= \"{http://www.mediawiki.org/xml/export-0.10/}text\""
   ]
  },
  {
   "cell_type": "code",
   "execution_count": 63,
   "metadata": {},
   "outputs": [],
   "source": [
    "import xml.etree.ElementTree as ET\n",
    "tree = ET.parse(sourcefile)\n",
    "root = tree.getroot()"
   ]
  },
  {
   "cell_type": "code",
   "execution_count": 64,
   "metadata": {},
   "outputs": [
    {
     "name": "stdout",
     "output_type": "stream",
     "text": [
      "texts: 115541\n"
     ]
    }
   ],
   "source": [
    "texts = []\n",
    "\n",
    "counter = 0\n",
    "for elem in root.getiterator():\n",
    "    if(elem.tag == text_tag):\n",
    "        counter += 1\n",
    "        texts.append(elem.text)\n",
    "\n",
    "print('texts:', counter)"
   ]
  },
  {
   "cell_type": "code",
   "execution_count": 65,
   "metadata": {},
   "outputs": [
    {
     "name": "stdout",
     "output_type": "stream",
     "text": [
      "115541\n"
     ]
    }
   ],
   "source": [
    "print(len(texts))"
   ]
  },
  {
   "cell_type": "code",
   "execution_count": 66,
   "metadata": {},
   "outputs": [],
   "source": [
    "valid_articles = texts"
   ]
  },
  {
   "cell_type": "code",
   "execution_count": 67,
   "metadata": {},
   "outputs": [],
   "source": [
    "sentences = []\n",
    "for article in valid_articles:\n",
    "    for sentence in article.split('.'):\n",
    "        if all(x.isalpha() or x.isspace() for x in sentence):\n",
    "            sentences.append([word.lower() for word in sentence.split() if len(word)>0])"
   ]
  },
  {
   "cell_type": "code",
   "execution_count": 70,
   "metadata": {},
   "outputs": [],
   "source": [
    "with open(pap_sourcefile) as f: \n",
    "    contents = f.read()\n",
    "    for sentence in contents.split('.'):\n",
    "        if all(x.isalpha() or x.isspace() for x in sentence):\n",
    "            sentences.append([word.lower() for word in sentence.split() if len(word)>0])"
   ]
  },
  {
   "cell_type": "code",
   "execution_count": 107,
   "metadata": {},
   "outputs": [],
   "source": [
    "with open(potop_sourcefile) as f: \n",
    "    contents = f.read()\n",
    "    for sentence in contents.split('.'):\n",
    "        if all(x.isalpha() or x.isspace() for x in sentence):\n",
    "            sentences.append([word.lower() for word in sentence.split() if len(word)>0])"
   ]
  },
  {
   "cell_type": "code",
   "execution_count": 118,
   "metadata": {},
   "outputs": [],
   "source": [
    "with open(popul_sourcefile) as f: \n",
    "    contents = f.read()\n",
    "    for sentence in contents.split('.'):\n",
    "        if all(x.isalpha() or x.isspace() for x in sentence):\n",
    "            sentences.append([word.lower() for word in sentence.split() if len(word)>0])"
   ]
  },
  {
   "cell_type": "code",
   "execution_count": 126,
   "metadata": {},
   "outputs": [],
   "source": [
    "with open(publ_sourcefile) as f: \n",
    "    contents = f.read()\n",
    "    for sentence in contents.split('.'):\n",
    "        if all(x.isalpha() or x.isspace() for x in sentence):\n",
    "            sentences.append([word.lower() for word in sentence.split() if len(word)>0])"
   ]
  },
  {
   "cell_type": "code",
   "execution_count": 127,
   "metadata": {},
   "outputs": [
    {
     "name": "stdout",
     "output_type": "stream",
     "text": [
      "sentences: 1093214\n",
      "[['opengroup'], ['awk', 'czyta', 'wejście', 'linia', 'po', 'linii'], ['każda', 'linia', 'jest', 'przeszukiwana', 'pod', 'kątem', 'wzorców', 'występujących', 'w', 'programie', 'i', 'dla', 'każdego', 'pasującego', 'wzorca', 'wykonywana', 'jest', 'akcja', 'z', 'nim', 'skojarzona'], ['computerworld'], ['com'], ['wzorce', 'są', 'sprawdzane', 'w', 'kolejności', 'ich', 'pojawienia', 'się', 'w', 'programie'], ['domyślną', 'akcją', 'jest', 'wypisanie', 'rekordu'], ['awk', 'posiada', 'wbudowane', 'wsparcie', 'dla', 'wielu', 'funkcji'], ['np'], ['interpretacja', 'wartości', 'zmiennej', 'zależy', 'od', 'kontekstu']]\n"
     ]
    }
   ],
   "source": [
    "print('sentences:', len(sentences))\n",
    "print(sentences[:10])"
   ]
  },
  {
   "cell_type": "code",
   "execution_count": 128,
   "metadata": {},
   "outputs": [
    {
     "name": "stdout",
     "output_type": "stream",
     "text": [
      "words: 3502041\n",
      "unique words: 260044\n"
     ]
    }
   ],
   "source": [
    "words = []\n",
    "for sentence in sentences:\n",
    "    for word in sentence:\n",
    "        words.append(word)\n",
    "        \n",
    "print('words:', len(words))\n",
    "# print(words[:10])\n",
    "\n",
    "words = set(words) # remove duplicates\n",
    "vocab_size = len(words) # number of unique words\n",
    "\n",
    "print('unique words:', vocab_size)"
   ]
  },
  {
   "cell_type": "code",
   "execution_count": 129,
   "metadata": {},
   "outputs": [],
   "source": [
    "model = Word2Vec(sentences, size=1000, window=5, min_count=1, workers=4)"
   ]
  },
  {
   "cell_type": "code",
   "execution_count": 130,
   "metadata": {},
   "outputs": [
    {
     "data": {
      "text/plain": [
       "[('książę', 0.9768742918968201),\n",
       " ('cesarz', 0.9557416439056396),\n",
       " ('henryk', 0.9444551467895508),\n",
       " ('ponownie', 0.9379592537879944),\n",
       " ('wilhelm', 0.9363876581192017),\n",
       " ('wkrótce', 0.9308091402053833),\n",
       " ('karol', 0.9287806749343872),\n",
       " ('papież', 0.924949049949646),\n",
       " ('filip', 0.9235060811042786),\n",
       " ('mieszko', 0.9235026836395264)]"
      ]
     },
     "execution_count": 130,
     "metadata": {},
     "output_type": "execute_result"
    }
   ],
   "source": [
    "model.wv.most_similar('król')"
   ]
  },
  {
   "cell_type": "code",
   "execution_count": 131,
   "metadata": {},
   "outputs": [
    {
     "data": {
      "text/plain": [
       "[('być', 0.8317002058029175),\n",
       " ('jokerów', 0.7820695638656616),\n",
       " ('losowości', 0.7511829137802124),\n",
       " ('podsuwać', 0.7486536502838135),\n",
       " ('postumentach', 0.7356767654418945),\n",
       " ('wyrządzać', 0.7272515892982483),\n",
       " ('rabczańskiego', 0.7251698970794678),\n",
       " ('budzić', 0.7165274024009705),\n",
       " ('nierozłącznym', 0.7161299586296082),\n",
       " ('wygenerować', 0.7123317122459412)]"
      ]
     },
     "execution_count": 131,
     "metadata": {},
     "output_type": "execute_result"
    }
   ],
   "source": [
    "model.wv.most_similar(positive=['mieć', 'był'], negative=['miał'])\n",
    "# expected: być"
   ]
  },
  {
   "cell_type": "code",
   "execution_count": 137,
   "metadata": {},
   "outputs": [
    {
     "data": {
      "text/plain": [
       "[('samochodem', 0.8726885318756104),\n",
       " ('uderzeniem', 0.8656030893325806),\n",
       " ('jakimikolwiek', 0.8604553937911987),\n",
       " ('egzekucją', 0.8586754202842712),\n",
       " ('szwedem', 0.8580789566040039),\n",
       " ('apofatycznej', 0.8573648929595947),\n",
       " ('świeżo', 0.8564975261688232),\n",
       " ('samochód', 0.8559709191322327),\n",
       " ('papier', 0.8556106686592102),\n",
       " ('młodszym', 0.8516967296600342)]"
      ]
     },
     "execution_count": 137,
     "metadata": {},
     "output_type": "execute_result"
    }
   ],
   "source": [
    "model.wv.most_similar(positive=['iść', 'biegł'], negative=['szedł'])\n",
    "# expected: biec"
   ]
  },
  {
   "cell_type": "code",
   "execution_count": 142,
   "metadata": {},
   "outputs": [
    {
     "data": {
      "text/plain": [
       "[('goszczą', 0.8856076002120972),\n",
       " ('koszykarskich', 0.8796084523200989),\n",
       " ('zachaczają', 0.8788051009178162),\n",
       " ('pianistka', 0.8779882788658142),\n",
       " ('realizowano', 0.8751997947692871),\n",
       " ('odłamkowe', 0.8750352263450623),\n",
       " ('trzymają', 0.8721727132797241),\n",
       " ('wyłącznik', 0.8717371225357056),\n",
       " ('zawadę', 0.8680833578109741),\n",
       " ('pierścienie', 0.866752028465271)]"
      ]
     },
     "execution_count": 142,
     "metadata": {},
     "output_type": "execute_result"
    }
   ],
   "source": [
    "model.wv.most_similar(positive=['jeść', 'pił'], negative=['jadł'])\n",
    "# expected: pić"
   ]
  },
  {
   "cell_type": "code",
   "execution_count": 145,
   "metadata": {},
   "outputs": [
    {
     "data": {
      "text/plain": [
       "[('taki', 0.8538692593574524),\n",
       " ('zastosowany', 0.8410118818283081),\n",
       " ('otwarty', 0.8319332599639893),\n",
       " ('podobny', 0.8255819082260132),\n",
       " ('jednocześnie', 0.8169142007827759),\n",
       " ('każdy', 0.8067406415939331),\n",
       " ('ona', 0.8032421469688416),\n",
       " ('wyposażyć', 0.8021159172058105),\n",
       " ('pribina', 0.7981438040733337),\n",
       " ('odruchowy', 0.7972149848937988)]"
      ]
     },
     "execution_count": 145,
     "metadata": {},
     "output_type": "execute_result"
    }
   ],
   "source": [
    "model.wv.most_similar(positive=['on', 'jej'], negative=['jego'])\n",
    "# expected: ona"
   ]
  },
  {
   "cell_type": "code",
   "execution_count": 152,
   "metadata": {},
   "outputs": [
    {
     "data": {
      "text/plain": [
       "[('muzułmanin', 0.8733041286468506),\n",
       " ('gorliwie', 0.8663956522941589),\n",
       " ('dlaczego', 0.8644230365753174),\n",
       " ('zdać', 0.8612079620361328),\n",
       " ('palić', 0.8599739074707031),\n",
       " ('zapełnić', 0.8556675910949707),\n",
       " ('czytać', 0.8537876605987549),\n",
       " ('dmoz', 0.849727988243103),\n",
       " ('rozwiązać', 0.8471976518630981),\n",
       " ('przegłosowanymi', 0.8469674587249756)]"
      ]
     },
     "execution_count": 152,
     "metadata": {},
     "output_type": "execute_result"
    }
   ],
   "source": [
    "model.wv.most_similar(positive=['kot', 'kotu'], negative=['psu'])\n",
    "# expected: pies"
   ]
  },
  {
   "cell_type": "code",
   "execution_count": 155,
   "metadata": {},
   "outputs": [
    {
     "data": {
      "text/plain": [
       "[('walsh', 0.9172684550285339),\n",
       " ('połtawy', 0.9153233766555786),\n",
       " ('jowisz', 0.9132786989212036),\n",
       " ('annabel', 0.9115257263183594),\n",
       " ('bartla', 0.9114909172058105),\n",
       " ('oxforda', 0.9086563587188721),\n",
       " ('węgrów', 0.9082049131393433),\n",
       " ('bizantyńskie', 0.9079293608665466),\n",
       " ('możnowładztwo', 0.9068790078163147),\n",
       " ('nazajutrz', 0.9067633152008057)]"
      ]
     },
     "execution_count": 155,
     "metadata": {},
     "output_type": "execute_result"
    }
   ],
   "source": [
    "model.wv.most_similar(positive=['budować', 'burzy'], negative=['buduje'])\n",
    "# expected burzyć"
   ]
  },
  {
   "cell_type": "code",
   "execution_count": 166,
   "metadata": {},
   "outputs": [
    {
     "data": {
      "text/plain": [
       "[('padała', 0.9386821389198303),\n",
       " ('skakał', 0.9384943842887878),\n",
       " ('oxenham', 0.9322761297225952),\n",
       " ('pospolita', 0.9266862273216248),\n",
       " ('sprobowal', 0.9242411851882935),\n",
       " ('procedurze', 0.9237609505653381),\n",
       " ('przewodzi', 0.9233749508857727),\n",
       " ('diabłów', 0.9233601093292236),\n",
       " ('posiadającym', 0.9233235716819763),\n",
       " ('pozostając', 0.922249972820282)]"
      ]
     },
     "execution_count": 166,
     "metadata": {},
     "output_type": "execute_result"
    }
   ],
   "source": [
    "model.wv.most_similar(positive=['francja', 'madryt'], negative=['paryż'])\n",
    "# expected ?"
   ]
  },
  {
   "cell_type": "code",
   "execution_count": 167,
   "metadata": {},
   "outputs": [
    {
     "data": {
      "text/plain": [
       "[('zjeżdżać', 0.7769372463226318),\n",
       " ('theravāda', 0.7695403099060059),\n",
       " ('łasce', 0.766011118888855),\n",
       " ('bitwa', 0.764957070350647),\n",
       " ('zmieniła', 0.7646942138671875),\n",
       " ('ustabilizowała', 0.7599154710769653),\n",
       " ('rozwijać', 0.7587845325469971),\n",
       " ('kasztelania', 0.7565116882324219),\n",
       " ('ofensywa', 0.756141185760498),\n",
       " ('ratunkowa', 0.7557530999183655)]"
      ]
     },
     "execution_count": 167,
     "metadata": {},
     "output_type": "execute_result"
    }
   ],
   "source": [
    "model.wv.most_similar(positive=['polska', 'wiedeń'], negative=['warszawa'])\n",
    "# expected: austria"
   ]
  },
  {
   "cell_type": "code",
   "execution_count": 165,
   "metadata": {},
   "outputs": [
    {
     "data": {
      "text/plain": [
       "[('pelplinie', 0.8811616897583008),\n",
       " ('transportowa', 0.8734015226364136),\n",
       " ('szkoła', 0.869504451751709),\n",
       " ('utrzymana', 0.8654136657714844),\n",
       " ('szmer', 0.8653343915939331),\n",
       " ('cytadeli', 0.8649874329566956),\n",
       " ('brawura', 0.8620914220809937),\n",
       " ('richthofen', 0.8618964552879333),\n",
       " ('germańskiego', 0.8606436252593994),\n",
       " ('odnotowana', 0.8596419095993042)]"
      ]
     },
     "execution_count": 165,
     "metadata": {},
     "output_type": "execute_result"
    }
   ],
   "source": [
    "model.wv.most_similar(positive=['wieś', 'miejski'], negative=['wiejski'])\n",
    "# expected: miejski"
   ]
  },
  {
   "cell_type": "code",
   "execution_count": 139,
   "metadata": {},
   "outputs": [
    {
     "data": {
      "text/plain": [
       "'dom'"
      ]
     },
     "execution_count": 139,
     "metadata": {},
     "output_type": "execute_result"
    }
   ],
   "source": [
    "model.wv.doesnt_match(\"muzyka dom pieśń melodia\".split())"
   ]
  },
  {
   "cell_type": "code",
   "execution_count": 140,
   "metadata": {},
   "outputs": [
    {
     "data": {
      "text/plain": [
       "'okno'"
      ]
     },
     "execution_count": 140,
     "metadata": {},
     "output_type": "execute_result"
    }
   ],
   "source": [
    "model.wv.doesnt_match(\"kot pies ptak okno\".split())"
   ]
  },
  {
   "cell_type": "code",
   "execution_count": null,
   "metadata": {},
   "outputs": [],
   "source": []
  }
 ],
 "metadata": {
  "kernelspec": {
   "display_name": "Python 3",
   "language": "python",
   "name": "python3"
  },
  "language_info": {
   "codemirror_mode": {
    "name": "ipython",
    "version": 3
   },
   "file_extension": ".py",
   "mimetype": "text/x-python",
   "name": "python",
   "nbconvert_exporter": "python",
   "pygments_lexer": "ipython3",
   "version": "3.6.4"
  }
 },
 "nbformat": 4,
 "nbformat_minor": 2
}
