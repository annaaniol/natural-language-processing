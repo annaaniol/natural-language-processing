{
 "cells": [
  {
   "cell_type": "code",
   "execution_count": 108,
   "metadata": {},
   "outputs": [],
   "source": [
    "import json\n",
    "import urllib\n",
    "import glob\n",
    "import os\n",
    "import time\n",
    "import xml.etree.ElementTree as ET"
   ]
  },
  {
   "cell_type": "code",
   "execution_count": 109,
   "metadata": {},
   "outputs": [],
   "source": [
    "user=\"aa.annaaniol@gmail.com\" \n",
    "lpmn=\"any2txt|wcrft2\" \n",
    "url=\"http://ws.clarin-pl.eu/nlprest2/base\" \n"
   ]
  },
  {
   "cell_type": "code",
   "execution_count": 110,
   "metadata": {},
   "outputs": [],
   "source": [
    "potop_file = \"../lab2/sources/potop.txt\"\n",
    "name_label = 'ign'\n",
    "place_label = ''"
   ]
  },
  {
   "cell_type": "code",
   "execution_count": 111,
   "metadata": {},
   "outputs": [],
   "source": [
    "with open (potop_file, \"rb\") as myfile:\n",
    "    doc = myfile.read()\n",
    "    upload_request = urllib.request.Request(url + '/upload/', doc, {'Content-Type': 'binary/octet-stream'})\n",
    "    fileid = urllib.request.urlopen(upload_request).read().decode(\"utf-8\") "
   ]
  },
  {
   "cell_type": "code",
   "execution_count": 112,
   "metadata": {},
   "outputs": [],
   "source": [
    "data = {'lpmn': lpmn, 'user': user, 'file':fileid}\n",
    "\n",
    "doc = json.dumps(data)\n",
    "binary_doc = doc.encode(\"utf-8\")\n",
    "# print(binary_doc)"
   ]
  },
  {
   "cell_type": "code",
   "execution_count": 113,
   "metadata": {},
   "outputs": [],
   "source": [
    "task_request = urllib.request.Request(url + '/startTask/', binary_doc, {'Content-Type': 'application/json'})"
   ]
  },
  {
   "cell_type": "code",
   "execution_count": 114,
   "metadata": {},
   "outputs": [],
   "source": [
    "taskid = urllib.request.urlopen(task_request).read()\n",
    "taskid = taskid.decode(\"utf-8\")"
   ]
  },
  {
   "cell_type": "code",
   "execution_count": 115,
   "metadata": {},
   "outputs": [],
   "source": [
    "status_request = urllib.request.Request(url + '/getStatus/' + taskid)"
   ]
  },
  {
   "cell_type": "code",
   "execution_count": 118,
   "metadata": {},
   "outputs": [
    {
     "name": "stdout",
     "output_type": "stream",
     "text": [
      "{'value': [{'name': 'file', 'fileID': '/requests/wcrft2/75eda6b4-8269-444c-8be3-eac4109fe166'}], 'status': 'DONE'}\n"
     ]
    }
   ],
   "source": [
    "# wait a moment for processing to be done and run\n",
    "\n",
    "response = urllib.request.urlopen(status_request);\n",
    "data = json.load(response)\n",
    "print(data)"
   ]
  },
  {
   "cell_type": "code",
   "execution_count": 119,
   "metadata": {},
   "outputs": [
    {
     "name": "stdout",
     "output_type": "stream",
     "text": [
      "/requests/wcrft2/75eda6b4-8269-444c-8be3-eac4109fe166\n"
     ]
    }
   ],
   "source": [
    "file_id = data['value'][0]['fileID']\n",
    "print(file_id)"
   ]
  },
  {
   "cell_type": "code",
   "execution_count": 120,
   "metadata": {},
   "outputs": [],
   "source": [
    "content_request = urllib.request.Request(url + '/download' + file_id)"
   ]
  },
  {
   "cell_type": "code",
   "execution_count": 121,
   "metadata": {},
   "outputs": [],
   "source": [
    "content = urllib.request.urlopen(content_request).read()\n",
    "content = content.decode(\"utf-8\")\n",
    "# print(content[:10000])"
   ]
  },
  {
   "cell_type": "code",
   "execution_count": 122,
   "metadata": {},
   "outputs": [],
   "source": [
    "root = ET.fromstring(content)"
   ]
  },
  {
   "cell_type": "code",
   "execution_count": 123,
   "metadata": {},
   "outputs": [],
   "source": [
    "def print_sentence(sentence):\n",
    "    for tok in sentence:\n",
    "        orth = tok.find('orth')\n",
    "        if orth != None:\n",
    "            print(orth.text, end=' ')"
   ]
  },
  {
   "cell_type": "code",
   "execution_count": 124,
   "metadata": {},
   "outputs": [],
   "source": [
    "names = {}\n",
    "places = []"
   ]
  },
  {
   "cell_type": "code",
   "execution_count": 125,
   "metadata": {},
   "outputs": [],
   "source": [
    "for chunk in root:\n",
    "    for sentence in chunk:\n",
    "        for tok in sentence:\n",
    "            if_name = False\n",
    "            if_place = False\n",
    "            for lex in tok:\n",
    "                if lex != None:\n",
    "                    ctag = lex.find('ctag')\n",
    "                    if ctag != None:\n",
    "                        roles = ctag.text.split(':')\n",
    "                        if name_label in roles:\n",
    "                            if_name = True\n",
    "                        if place_label in roles:\n",
    "                            if_place = True\n",
    "                    base = lex.find('base')\n",
    "                    if base != None and if_name:\n",
    "                        if base.text in names:\n",
    "                            names[base.text].append(sentence)\n",
    "                        else:\n",
    "                            names[base.text] = [sentence]             "
   ]
  },
  {
   "cell_type": "code",
   "execution_count": 126,
   "metadata": {},
   "outputs": [
    {
     "data": {
      "text/plain": [
       "3070"
      ]
     },
     "execution_count": 126,
     "metadata": {},
     "output_type": "execute_result"
    }
   ],
   "source": [
    "len(names)"
   ]
  },
  {
   "cell_type": "code",
   "execution_count": 127,
   "metadata": {},
   "outputs": [],
   "source": [
    "def print_all_contexts(phrase):\n",
    "    i = 1\n",
    "    for sentence in names[phrase]:\n",
    "        print('\\n', i, 'occurrence:')\n",
    "        print_sentence(sentence)\n",
    "        i += 1"
   ]
  },
  {
   "cell_type": "code",
   "execution_count": 128,
   "metadata": {},
   "outputs": [
    {
     "name": "stdout",
     "output_type": "stream",
     "text": [
      "\n",
      " 1 occurrence:\n",
      "Gniazdo ich rodzinne , istniejące do dziś , zwało się także Billewicze , ale prócz nich posiadali wiele innych majętności i w okolicy Rosień , i dalej ku Krakinowu , wedle Laudy , Szoi , Niewiaży - aż hen , jeszcze za Poniewieżem . \n",
      " 2 occurrence:\n",
      "Nie o sto mil Billewicze od Kiejdan , a z ciebie rara avispod moim dachem . \n",
      " 3 occurrence:\n",
      "A cóż to , Billewicze - forteca ? \n",
      " 4 occurrence:\n",
      "- Tymczasem pan pułkownik Billewicz - wielki to ród na Żmudzi ci Billewicze - wyzuł znikomą postawę i na lepszy świat się przeniósł , a mnie wioskę i wnuczkę zapisał . \n",
      " 5 occurrence:\n",
      "Wszyscy Billewicze , którzy już są w polu , staną przy nas . \n",
      " 6 occurrence:\n",
      "Dotrzymają Billewicze Radziwiłłom ! \n",
      " 7 occurrence:\n",
      "- Tacyż to Billewicze tani , także to klejnot wasz szlachecki i starożytność rodu cenisz ? \n",
      " 8 occurrence:\n",
      "A co panowie Sicińscy , nasi nieprzyjaciele , powiedzą , gdy Billewicze tak wyrosną ? \n",
      " 9 occurrence:\n",
      "- Billewicze - mówił - krzyczą wniebogłosy na swą krzywdę i niewolę , a przecież nic im się tu nie stało i nie stanie . \n",
      " 10 occurrence:\n",
      "Sami Billewicze zebrali do pięciuset koni z obywatelstwa , drobnej szlachty i chłopów . \n",
      " 11 occurrence:\n",
      "Postępy konfederackich partyj nie przestraszały jej bynajmniej , i gdyby Billewicze uderzyli na same Taurogi , jeszcze by była rada . \n",
      " 12 occurrence:\n",
      "Straszny niedawno Sakowicz zmalał we wszystkich , ba , nawet we własnych swoich oczach ; partie poczęły na nowo wpadać na oddziały szwedzkie ; Billewicze , ochłonąwszy po ostatnim pogromie , przeszli znów Dubisę na czele swych chłopów i resztek szlachty laudańskiej . \n",
      " 13 occurrence:\n",
      "Billewicze moje do cna spalone ; na dwory grasanci nachodzą , a często i podjazdy szwedzkie . "
     ]
    }
   ],
   "source": [
    "print_all_contexts('Billewicze')"
   ]
  },
  {
   "cell_type": "code",
   "execution_count": 129,
   "metadata": {},
   "outputs": [],
   "source": [
    "sorted_names = sorted(names.items(), key=lambda x: len(x[1]), reverse=True)"
   ]
  },
  {
   "cell_type": "code",
   "execution_count": 130,
   "metadata": {},
   "outputs": [
    {
     "name": "stdout",
     "output_type": "stream",
     "text": [
      "top 10 occurrrences of named entities:\n",
      "Babinicz 190\n",
      "Skrzetuski 132\n",
      "frame 97\n",
      "NETOGRAFIA 97\n",
      "Sakowicz 96\n",
      "Kiejdan 73\n",
      "Kiejdanach 71\n",
      "Taurogach 70\n",
      "Kuklinowski 63\n",
      "Taurogów 56\n"
     ]
    }
   ],
   "source": [
    "print('top 10 occurrrences of named entities:')\n",
    "for name in sorted_names[:10]:\n",
    "    print(name[0], len(name[1]))"
   ]
  }
 ],
 "metadata": {
  "kernelspec": {
   "display_name": "Python 3",
   "language": "python",
   "name": "python3"
  },
  "language_info": {
   "codemirror_mode": {
    "name": "ipython",
    "version": 3
   },
   "file_extension": ".py",
   "mimetype": "text/x-python",
   "name": "python",
   "nbconvert_exporter": "python",
   "pygments_lexer": "ipython3",
   "version": "3.6.4"
  }
 },
 "nbformat": 4,
 "nbformat_minor": 2
}
