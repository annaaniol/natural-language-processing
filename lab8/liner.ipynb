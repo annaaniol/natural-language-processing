{
 "cells": [
  {
   "cell_type": "code",
   "execution_count": 1,
   "metadata": {},
   "outputs": [],
   "source": [
    "import json\n",
    "import urllib\n",
    "import glob\n",
    "import os\n",
    "import time\n",
    "import xml.etree.ElementTree as ET"
   ]
  },
  {
   "cell_type": "code",
   "execution_count": 2,
   "metadata": {},
   "outputs": [],
   "source": [
    "user=\"aa.annaaniol@gmail.com\" \n",
    "lpmn=\"any2txt|wcrft2\" \n",
    "url=\"http://ws.clarin-pl.eu/nlprest2/base\" "
   ]
  },
  {
   "cell_type": "code",
   "execution_count": 70,
   "metadata": {},
   "outputs": [],
   "source": [
    "potop_file = \"../lab2/sources/potop.txt\"\n",
    "named_entity_label = 'ign'"
   ]
  },
  {
   "cell_type": "code",
   "execution_count": 4,
   "metadata": {},
   "outputs": [],
   "source": [
    "with open (potop_file, \"rb\") as myfile:\n",
    "    doc = myfile.read()\n",
    "    upload_request = urllib.request.Request(url + '/upload/', doc, {'Content-Type': 'binary/octet-stream'})\n",
    "    fileid = urllib.request.urlopen(upload_request).read().decode(\"utf-8\") "
   ]
  },
  {
   "cell_type": "code",
   "execution_count": 5,
   "metadata": {},
   "outputs": [
    {
     "name": "stdout",
     "output_type": "stream",
     "text": [
      "/users/default/9d01b097-b264-4018-95d7-f4ae6a24c016\n"
     ]
    }
   ],
   "source": [
    "print(fileid)"
   ]
  },
  {
   "cell_type": "code",
   "execution_count": 6,
   "metadata": {},
   "outputs": [
    {
     "name": "stdout",
     "output_type": "stream",
     "text": [
      "b'{\"lpmn\": \"any2txt|wcrft2\", \"user\": \"aa.annaaniol@gmail.com\", \"file\": \"/users/default/9d01b097-b264-4018-95d7-f4ae6a24c016\"}'\n"
     ]
    }
   ],
   "source": [
    "data = {'lpmn': lpmn, 'user': user, 'file':fileid}\n",
    "# doc = urllib.parse.urlencode(data)\n",
    "# binary_doc = doc.encode('utf-8')\n",
    "\n",
    "doc = json.dumps(data)\n",
    "binary_doc = doc.encode(\"utf-8\")\n",
    "print(binary_doc)\n",
    "\n",
    "\n",
    "# data = urllib.parse.urlencode(data).encode(\"utf-8\")\n",
    "# print(data)"
   ]
  },
  {
   "cell_type": "code",
   "execution_count": 7,
   "metadata": {},
   "outputs": [],
   "source": [
    "task_request = urllib.request.Request(url + '/startTask/', binary_doc, {'Content-Type': 'application/json'})"
   ]
  },
  {
   "cell_type": "code",
   "execution_count": 8,
   "metadata": {},
   "outputs": [],
   "source": [
    "taskid = urllib.request.urlopen(task_request).read()\n",
    "taskid = taskid.decode(\"utf-8\")"
   ]
  },
  {
   "cell_type": "code",
   "execution_count": 9,
   "metadata": {},
   "outputs": [],
   "source": [
    "status_request = urllib.request.Request(url + '/getStatus/' + taskid)"
   ]
  },
  {
   "cell_type": "code",
   "execution_count": 11,
   "metadata": {},
   "outputs": [
    {
     "name": "stdout",
     "output_type": "stream",
     "text": [
      "{'value': [{'name': 'file', 'fileID': '/requests/wcrft2/fad4a5f8-cdd8-43ac-b625-0628a43d53b0'}], 'status': 'DONE'}\n"
     ]
    }
   ],
   "source": [
    "# wait a moment for processing to be done and run\n",
    "\n",
    "response = urllib.request.urlopen(status_request);\n",
    "data = json.load(response)\n",
    "print(data)"
   ]
  },
  {
   "cell_type": "code",
   "execution_count": 12,
   "metadata": {},
   "outputs": [
    {
     "name": "stdout",
     "output_type": "stream",
     "text": [
      "/requests/wcrft2/fad4a5f8-cdd8-43ac-b625-0628a43d53b0\n"
     ]
    }
   ],
   "source": [
    "file_id = data['value'][0]['fileID']\n",
    "print(file_id)"
   ]
  },
  {
   "cell_type": "code",
   "execution_count": 13,
   "metadata": {},
   "outputs": [],
   "source": [
    "content_request = urllib.request.Request(url + '/download' + file_id)"
   ]
  },
  {
   "cell_type": "code",
   "execution_count": 14,
   "metadata": {},
   "outputs": [],
   "source": [
    "content = urllib.request.urlopen(content_request).read()\n",
    "content = content.decode(\"utf-8\")"
   ]
  },
  {
   "cell_type": "code",
   "execution_count": 68,
   "metadata": {},
   "outputs": [
    {
     "name": "stdout",
     "output_type": "stream",
     "text": [
      "<?xml version=\"1.0\" encoding=\"UTF-8\"?>\n",
      "<!DOCTYPE chunkList SYSTEM \"ccl.dtd\">\n",
      "<chunkList>\n",
      " <chunk id=\"ch1\" type=\"p\">\n",
      "  <sentence id=\"s1\">\n",
      "   <tok>\n",
      "    <orth>frame</orth>\n",
      "    <lex disamb=\"1\"><base>frame</base><ctag>ign</ctag></lex>\n",
      "   </tok>\n",
      "  </sentence>\n",
      " </chunk>\n",
      " <chunk id=\"ch2\" type=\"p\">\n",
      "  <sentence id=\"s2\">\n",
      "   <tok>\n",
      "    <orth>Henryk</orth>\n",
      "    <lex disamb=\"1\"><base>Henryk</base><ctag>subst:sg:nom:m1</ctag></lex>\n",
      "   </tok>\n",
      "   <tok>\n",
      "    <orth>Sienkiewicz</orth>\n",
      "    <lex disamb=\"1\"><base>Sienkiewicz</base><ctag>subst:sg:nom:m1</ctag></lex>\n",
      "   </tok>\n",
      "   <tok>\n",
      "    <orth>Potop</orth>\n",
      "    <lex disamb=\"1\"><base>potop</base><ctag>subst:sg:nom:m3</ctag></lex>\n",
      "   </tok>\n",
      "  </sentence>\n",
      " </chunk>\n",
      " <chunk id=\"ch3\" type=\"p\">\n",
      "  <sentence id=\"s3\">\n",
      "   <tok>\n",
      "    <orth>tom</orth>\n",
      "    <lex disamb=\"1\"><base>tom</base><ctag>subst:sg:nom:m3</ctag></lex>\n",
      "   </tok>\n",
      "   <tok>\n",
      "    <orth>I</orth>\n",
      "    <lex disamb=\"1\"><base>i</base><ctag>conj</ctag></lex>\n",
      "   </tok>\n",
      "  </sentence>\n",
      " </chunk>\n",
      " <chunk id=\"ch4\" type=\"p\">\n"
     ]
    }
   ],
   "source": [
    "print(content[:1000])"
   ]
  },
  {
   "cell_type": "code",
   "execution_count": 16,
   "metadata": {},
   "outputs": [],
   "source": [
    "root = ET.fromstring(content)"
   ]
  },
  {
   "cell_type": "code",
   "execution_count": 17,
   "metadata": {},
   "outputs": [
    {
     "data": {
      "text/plain": [
       "'chunkList'"
      ]
     },
     "execution_count": 17,
     "metadata": {},
     "output_type": "execute_result"
    }
   ],
   "source": [
    "root.tag"
   ]
  },
  {
   "cell_type": "code",
   "execution_count": 18,
   "metadata": {},
   "outputs": [
    {
     "data": {
      "text/plain": [
       "{}"
      ]
     },
     "execution_count": 18,
     "metadata": {},
     "output_type": "execute_result"
    }
   ],
   "source": [
    "root.attrib"
   ]
  },
  {
   "cell_type": "code",
   "execution_count": 65,
   "metadata": {},
   "outputs": [],
   "source": [
    "named_entities = []"
   ]
  },
  {
   "cell_type": "code",
   "execution_count": 73,
   "metadata": {},
   "outputs": [],
   "source": [
    "for chunk in root:\n",
    "    for sentence in chunk:\n",
    "        for tok in sentence:\n",
    "            if_named_entity = False\n",
    "            for lex in tok:\n",
    "                if lex != None:\n",
    "                    ctag = lex.find('ctag')\n",
    "                    if ctag != None:\n",
    "                        roles = ctag.text.split(':')\n",
    "                        if named_entity_label in roles:\n",
    "                            if_named_entity = True\n",
    "                    base = lex.find('base')\n",
    "                    if base != None and if_named_entity:\n",
    "#                         print(\"named entity:\", base.text)\n",
    "                        named_entities.append(base.text)\n",
    "\n",
    "                        "
   ]
  },
  {
   "cell_type": "code",
   "execution_count": 74,
   "metadata": {},
   "outputs": [
    {
     "data": {
      "text/plain": [
       "27429"
      ]
     },
     "execution_count": 74,
     "metadata": {},
     "output_type": "execute_result"
    }
   ],
   "source": [
    "len(named_entities)"
   ]
  },
  {
   "cell_type": "code",
   "execution_count": null,
   "metadata": {},
   "outputs": [],
   "source": []
  }
 ],
 "metadata": {
  "kernelspec": {
   "display_name": "Python 3",
   "language": "python",
   "name": "python3"
  },
  "language_info": {
   "codemirror_mode": {
    "name": "ipython",
    "version": 3
   },
   "file_extension": ".py",
   "mimetype": "text/x-python",
   "name": "python",
   "nbconvert_exporter": "python",
   "pygments_lexer": "ipython3",
   "version": "3.6.4"
  }
 },
 "nbformat": 4,
 "nbformat_minor": 2
}
