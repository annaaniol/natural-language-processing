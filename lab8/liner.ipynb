{
 "cells": [
  {
   "cell_type": "code",
   "execution_count": 115,
   "metadata": {},
   "outputs": [],
   "source": [
    "import json\n",
    "import urllib\n",
    "import glob\n",
    "import os\n",
    "import time\n",
    "import xml.etree.ElementTree as ET"
   ]
  },
  {
   "cell_type": "code",
   "execution_count": 116,
   "metadata": {},
   "outputs": [],
   "source": [
    "user=\"aa.annaaniol@gmail.com\" \n",
    "lpmn=\"any2txt|wcrft2|liner2({\\\"model\\\":\\\"5nam\\\"})\" \n",
    "url=\"http://ws.clarin-pl.eu/nlprest2/base\" "
   ]
  },
  {
   "cell_type": "code",
   "execution_count": 117,
   "metadata": {},
   "outputs": [],
   "source": [
    "potop_file = \"../lab2/sources/potop.txt\""
   ]
  },
  {
   "cell_type": "code",
   "execution_count": 118,
   "metadata": {},
   "outputs": [],
   "source": [
    "with open (potop_file, \"rb\") as myfile:\n",
    "    doc = myfile.read()\n",
    "    upload_request = urllib.request.Request(url + '/upload/', doc, {'Content-Type': 'binary/octet-stream'})\n",
    "    fileid = urllib.request.urlopen(upload_request).read().decode(\"utf-8\") "
   ]
  },
  {
   "cell_type": "code",
   "execution_count": 119,
   "metadata": {},
   "outputs": [],
   "source": [
    "data = {'lpmn': lpmn, 'user': user, 'file':fileid}\n",
    "\n",
    "doc = json.dumps(data)\n",
    "binary_doc = doc.encode(\"utf-8\")\n",
    "# print(binary_doc)"
   ]
  },
  {
   "cell_type": "code",
   "execution_count": 120,
   "metadata": {},
   "outputs": [],
   "source": [
    "task_request = urllib.request.Request(url + '/startTask/', binary_doc, {'Content-Type': 'application/json'})"
   ]
  },
  {
   "cell_type": "code",
   "execution_count": 121,
   "metadata": {},
   "outputs": [],
   "source": [
    "taskid = urllib.request.urlopen(task_request).read()\n",
    "taskid = taskid.decode(\"utf-8\")"
   ]
  },
  {
   "cell_type": "code",
   "execution_count": 122,
   "metadata": {},
   "outputs": [],
   "source": [
    "status_request = urllib.request.Request(url + '/getStatus/' + taskid)"
   ]
  },
  {
   "cell_type": "code",
   "execution_count": 124,
   "metadata": {},
   "outputs": [
    {
     "name": "stdout",
     "output_type": "stream",
     "text": [
      "{'value': [{'name': 'file', 'fileID': '/requests/liner2/c890707c-b74b-4f1f-a911-b65e805c7d97'}], 'status': 'DONE'}\n"
     ]
    }
   ],
   "source": [
    "# wait a moment for processing to be done and run\n",
    "\n",
    "response = urllib.request.urlopen(status_request);\n",
    "data = json.load(response)\n",
    "print(data)"
   ]
  },
  {
   "cell_type": "code",
   "execution_count": 125,
   "metadata": {},
   "outputs": [
    {
     "name": "stdout",
     "output_type": "stream",
     "text": [
      "/requests/liner2/c890707c-b74b-4f1f-a911-b65e805c7d97\n"
     ]
    }
   ],
   "source": [
    "file_id = data['value'][0]['fileID']\n",
    "print(file_id)"
   ]
  },
  {
   "cell_type": "code",
   "execution_count": 126,
   "metadata": {},
   "outputs": [],
   "source": [
    "content_request = urllib.request.Request(url + '/download' + file_id)"
   ]
  },
  {
   "cell_type": "code",
   "execution_count": 127,
   "metadata": {},
   "outputs": [],
   "source": [
    "content = urllib.request.urlopen(content_request).read()\n",
    "content = content.decode(\"utf-8\")"
   ]
  },
  {
   "cell_type": "code",
   "execution_count": 129,
   "metadata": {},
   "outputs": [],
   "source": [
    "root = ET.fromstring(content)"
   ]
  },
  {
   "cell_type": "code",
   "execution_count": 130,
   "metadata": {},
   "outputs": [],
   "source": [
    "def print_sentence(sentence):\n",
    "    for tok in sentence:\n",
    "        orth = tok.find('orth')\n",
    "        if orth != None:\n",
    "            print(orth.text, end=' ')"
   ]
  },
  {
   "cell_type": "code",
   "execution_count": 183,
   "metadata": {},
   "outputs": [],
   "source": [
    "names = {}\n",
    "places = {}"
   ]
  },
  {
   "cell_type": "code",
   "execution_count": 184,
   "metadata": {},
   "outputs": [],
   "source": [
    "def is_name(tok):\n",
    "    if tok is None:\n",
    "        return False\n",
    "    if_name = False\n",
    "    for ann in tok.findall('ann'):\n",
    "        if ann != None:\n",
    "            if ann.text != '0':\n",
    "                if 'person_first_nam' in ann.attrib['chan']:\n",
    "                    if_name = True\n",
    "                elif 'person_last_nam' in ann.attrib['chan']:  \n",
    "                    if_name = True\n",
    "    return if_name\n",
    "\n",
    "def is_place(tok):\n",
    "    if tok is None:\n",
    "        return False\n",
    "    if_place = False\n",
    "    for ann in tok.findall('ann'):\n",
    "        if_place = False\n",
    "        if ann != None:\n",
    "            if ann.text != '0':\n",
    "                if 'road_nam' in ann.attrib['chan']:\n",
    "                    if_place = True\n",
    "                elif 'city_nam' in ann.attrib['chan']:\n",
    "                    if_place = True\n",
    "                elif 'country_nam' in ann.attrib['chan']:\n",
    "                    if_place = True\n",
    "    return if_place"
   ]
  },
  {
   "cell_type": "code",
   "execution_count": 185,
   "metadata": {},
   "outputs": [],
   "source": [
    "### Build a name-contexts and place-contexts dictionary\n",
    "\n",
    "for chunk in root:\n",
    "    for sentence in chunk:\n",
    "        last_tok = None\n",
    "        last_phrase = ''\n",
    "        \n",
    "        for tok in sentence:\n",
    "            \n",
    "            if_name = is_name(tok)\n",
    "            if_place = is_place(tok)\n",
    "        \n",
    "            lex = tok.find('lex')\n",
    "\n",
    "            if lex != None:\n",
    "                base = lex.find('base')\n",
    "                if base != None and if_name:\n",
    "                    if is_name(last_tok):   # processing 2nd or greater part of name\n",
    "                        last_phrase = last_phrase + ' ' + base.text\n",
    "                    else:   # processing 1st part of name\n",
    "                        last_phrase = base.text\n",
    "\n",
    "                elif is_name(last_tok):\n",
    "                    phrase = last_phrase\n",
    "                    if phrase in names:\n",
    "                        names[phrase].append(sentence)\n",
    "                    else:\n",
    "                        names[phrase] = [sentence]\n",
    "                        \n",
    "                if base != None and if_place:\n",
    "                    if is_place(last_tok):   # processing 2nd or greater part of name\n",
    "                        last_phrase = last_phrase + ' ' + base.text\n",
    "                    else:   # processing 1st part of name\n",
    "                        last_phrase = base.text\n",
    "\n",
    "                elif is_place(last_tok):\n",
    "                    phrase = last_phrase\n",
    "                    if phrase in places:\n",
    "                        places[phrase].append(sentence)\n",
    "                    else:\n",
    "                        places[phrase] = [sentence]  \n",
    "                        \n",
    "                                    \n",
    "                last_tok = tok\n",
    "            \n",
    "        if is_name(last_tok):\n",
    "            phrase = last_phrase\n",
    "            if phrase in names:\n",
    "                names[phrase].append(sentence)\n",
    "            else:\n",
    "                names[phrase] = [sentence]  \n",
    "                \n",
    "        if is_place(last_tok):\n",
    "            phrase = last_phrase\n",
    "            if phrase in places:\n",
    "                places[phrase].append(sentence)\n",
    "            else:\n",
    "                places[phrase] = [sentence]  "
   ]
  },
  {
   "cell_type": "code",
   "execution_count": 186,
   "metadata": {},
   "outputs": [
    {
     "data": {
      "text/plain": [
       "930"
      ]
     },
     "execution_count": 186,
     "metadata": {},
     "output_type": "execute_result"
    }
   ],
   "source": [
    "len(names)"
   ]
  },
  {
   "cell_type": "code",
   "execution_count": 187,
   "metadata": {},
   "outputs": [],
   "source": [
    "# print(names.keys())"
   ]
  },
  {
   "cell_type": "code",
   "execution_count": 188,
   "metadata": {},
   "outputs": [
    {
     "data": {
      "text/plain": [
       "404"
      ]
     },
     "execution_count": 188,
     "metadata": {},
     "output_type": "execute_result"
    }
   ],
   "source": [
    "len(places)"
   ]
  },
  {
   "cell_type": "code",
   "execution_count": 181,
   "metadata": {},
   "outputs": [],
   "source": [
    "# print(places.keys())"
   ]
  },
  {
   "cell_type": "code",
   "execution_count": 182,
   "metadata": {},
   "outputs": [],
   "source": [
    "def print_all_contexts_for_name(phrase):\n",
    "    i = 1\n",
    "    for sentence in names[phrase]:\n",
    "        print('\\n', i, 'occurrence:')\n",
    "        print_sentence(sentence)\n",
    "        i += 1\n",
    "        \n",
    "def print_all_contexts_for_place(phrase):\n",
    "    i = 1\n",
    "    for sentence in places[phrase]:\n",
    "        print('\\n', i, 'occurrence:')\n",
    "        print_sentence(sentence)\n",
    "        i += 1"
   ]
  },
  {
   "cell_type": "code",
   "execution_count": 174,
   "metadata": {},
   "outputs": [
    {
     "name": "stdout",
     "output_type": "stream",
     "text": [
      "\n",
      " 1 occurrence:\n",
      "Zapłonął na to pan Stanisław i odrzekł : \n",
      " 2 occurrence:\n",
      "- To do mnie nie należy ! - odrzekł sucho pan Stanisław . \n",
      " 3 occurrence:\n",
      "Jeździli tedy obaj przed szeregami czyniąc rozkosz oczom swym moderunkiem i postawą ; pan Stanisław , czarny jak żuk na podobieństwo wszystkich Skrzetuskich , z twarzą męską , groźną i ozdobioną długą ukośną blizną od cięcia miecza pozostałą , z kruczą , rozwianą na wiatr brodą ; pan Władysław , tłustawy , z długimi jasnymi wąsami , z odwiniętą wargą dolną i oczyma w czerwonych obwódkach , łagodny i poczciwy , mniej przypominał Marsa , ale niemniej była to szczera dusza żołnierska , jak salamandra w ogniu się kochająca , rycerz znający wojnę jak swoje dziesięć palców i odwagi nieporównanej . \n",
      " 4 occurrence:\n",
      "- Miło mi zabrać znajomość z waćpanem dobrodziejem - odparł Stanisław - tym bardziej że imię znane mi było dobrze , bo je rycerstwo w całej Rzeczypospolitej ze czcią powtarza i za przykład podaje . \n",
      " 5 occurrence:\n",
      "Jan siedział z dłońmi opartymi na kolanach , oczy wbił w ziemię i zamyślił się ponuro , pan Stanisław wzdychał , a pan Zagłoba , nie ochłonąwszy jeszcze , spoglądał osłupiałym wzrokiem to na jednego , to na drugiego . \n",
      " 6 occurrence:\n",
      "- Co myślisz czynić , Janie ? - rzekł Stanisław . \n",
      " 7 occurrence:\n",
      "- I nie będzie to zbytnia ostrożność - odrzekł Stanisław - bo choć z Wielkopolski tutaj daleko , kto wie , czy płomień wkrótce i tych stron nie ogarnie . \n",
      " 8 occurrence:\n",
      "- Byle był na to czas - odrzekł Stanisław . \n",
      " 9 occurrence:\n",
      "- Nie dziw się waszmość moim słowom - rzekł pan Stanisław - ale po tym , co m widział , takiego do pospolitego ruszenia nabrał em wstrętu , że wolę sam iść niżeli z tłumem ludzi wojny nie znających . \n",
      " 10 occurrence:\n",
      "- I w wojsku , nie między pospolitakami , będziem służyli - dodał Stanisław . \n",
      " 11 occurrence:\n",
      "- Waszmość to , widzę , nie tylko w wojnie , ale i w radzie prym możesz trzymać - rzekł pan Stanisław . \n",
      " 12 occurrence:\n",
      "Poznasz , Stanisławie , największego żołnierza w Rzeczypospolitej i przyjaciela mego szczerego , brata . \n",
      " 13 occurrence:\n",
      "- Wie , wie , bo przy niej najpierwej Stanisław opowiadał . \n",
      " 14 occurrence:\n",
      "- Ty , Stanisławie , musisz być fatigatus wielce po drodze , ale do jutra wywczasujesz się , jak będziesz mógł . \n",
      " 15 occurrence:\n",
      "Pan Stanisław , zdrożony wielce , ledwie się posiliwszy i napiwszy , zaraz spać poszedł , a pan Jan z panem Zagłobą zakrzątnęli się około wyprawy . \n",
      " 16 occurrence:\n",
      "Pan Stanisław , pan Jan wraz z pięcioma pachołkami jechali konno koło kolaski . \n",
      " 17 occurrence:\n",
      "Wołodyjowski począł go wypytywać o wszystko , co się pod Ujściem zdarzyło , i za czuprynę się targał słuchając opowiadania ; wreszcie , gdy pan Stanisław skończył , rzekł : \n",
      " 18 occurrence:\n",
      "- Na Boga , nie chcę pospolitaków ! - zakrzyknął pan Stanisław . \n",
      " 19 occurrence:\n",
      "- Jedźmy tedy nie mieszkając do Kiejdan ! - rzekł pan Stanisław . \n",
      " 20 occurrence:\n",
      "- A że książę pisze , iż postąpi , jak mu Bóg i sumienie nakazuje , to znaczy , że będzie bił Szweda - dodał pan Stanisław . \n",
      " 21 occurrence:\n",
      "- Do księcia koniuszego ! - powtórzył pan Stanisław . \n",
      " 22 occurrence:\n",
      "- Czarna była by to niewdzięczność i wiarołomstwo z jego strony , gdyby inaczej postąpił ! - odparł Stanisław . \n",
      " 23 occurrence:\n",
      "- To jedźmy wszyscy razem - dodał Stanisław . \n",
      " 24 occurrence:\n",
      "- A to Stanisław , rotmistrz kaliski - mówił dalej pan Wołodyjowski - który spod Ujścia wprost jedzie . \n",
      " 25 occurrence:\n",
      "zaraz znać , że to nie pospolitaki ! - zawołał pan Stanisław . \n",
      " 26 occurrence:\n",
      "To jest pan Skrzetuski , ów zbarażczyk , i jego stryjeczny , Stanisław . \n",
      " 27 occurrence:\n",
      "- Po to my tu i przyjechali , żeby od boku księcia wojewody nie odstępować - rzekł pan Stanisław . \n",
      " 28 occurrence:\n",
      "- Słusznie waćpan mówisz - rzekł Stanisław . \n",
      " 29 occurrence:\n",
      "- Takie straszne trzy wojny ; gdy po prawdzie na jedną sił nam brak ! - rzekł Stanisław . \n",
      " 30 occurrence:\n",
      "- Nie odetchnę , aż w polu - rzekł Stanisław . \n",
      " 31 occurrence:\n",
      "Brat mój , Stanisław , patrzył pod Ujściem na bojaźń , nieład , hańbę i zdradę , a w końcu na triumf nieprzyjaciela . \n",
      " 32 occurrence:\n",
      "to wojownik ! - mówił Stanisław , gdy z powrotem przeciskali się przez tłum szlachty zebrany w sali audiencjonalnej . \n",
      " 33 occurrence:\n",
      "Pan Stanisław nagle zęby ścisnął , wściekłość go porwała . \n",
      " 34 occurrence:\n",
      "Stanisław nic nie odpowiedział , jeno dłonie łamał , aż w stawach trzeszczało . \n",
      " 35 occurrence:\n",
      "Zagłoba z panem Stanisławem ustawili się pod ścianą , po chwili Jan stanął na ich ramionach . \n",
      " 36 occurrence:\n",
      "- Ani ja ! - rzekł Stanisław . \n",
      " 37 occurrence:\n",
      "że musimy tu siedzieć ! - zakrzyknął Stanisław . \n",
      " 38 occurrence:\n",
      "- Dzięki Bogu , że choć taki jeden jest - odrzekł Stanisław - bo pamiętacie , jakeśmy to i Radziwiłłowi ufali ? \n",
      " 39 occurrence:\n",
      "- Inny już wiatr w całej Rzeczypospolitej wieje - rzekł pan Stanisław - a chwalić Boga , Szwedom w oczy . \n",
      " 40 occurrence:\n",
      "- Eksperiencja wojskowa przez waćpana mówi , nie można rzec ! - odpowiedział pan Stanisław . \n",
      " 41 occurrence:\n",
      "- rzekł pan Stanisław - słyszycie waćpanowie , jak wyje , jakoby Tatarzy do ataku powietrzem szli ? \n",
      " 42 occurrence:\n",
      "Poznał em go , gdy był młodym jeszcze panięciem , na dworze pana krakowskiego , Stanisława . \n",
      " 43 occurrence:\n",
      "A jest armia Szteinboka , a prezydia , a Wirtz ! - wtrącił Stanisław . "
     ]
    }
   ],
   "source": [
    "print_all_contexts_for_name('Stanisław')"
   ]
  },
  {
   "cell_type": "code",
   "execution_count": 169,
   "metadata": {
    "scrolled": true
   },
   "outputs": [
    {
     "name": "stdout",
     "output_type": "stream",
     "text": [
      "\n",
      " 1 occurrence:\n",
      "Nad kaliskimi chłopy dzierżył rotmistrzowską buławę pan Stanisław Skrzetuski , z rodu dzielnych wojowników , stryjeczny Jana , słynnego zbarażczyka . \n",
      " 2 occurrence:\n",
      "Pan Stanisław Skrzetuski , rotmistrz kaliski , a stryjeczny słynnego zbarażczyka Jana , włosy rwał na głowie , bo i jego łanowcy , idąc za przykładem towarzystwa \" , poczęli wyciekać \" z obozu . \n",
      " 3 occurrence:\n",
      "- Jaśnie wielmożny wojewodo ! - odpowiadał pan Stanisław Skrzetuski . \n",
      " 4 occurrence:\n",
      "O świtaniu nadjechał pan Stanisław Skrzetuski z wieścią , że Szwedzi przyciągnęli już pod Wałcz , o jeden dzień marszu od polskiego obozu . \n",
      " 5 occurrence:\n",
      "Wyprowadził jeszcze pan Stanisław Skrzetuski dwie chorągwie kaliszanów , chcąc śmiałym atakiem zmieszać Szwedów , ale nie poszli ochotnie ; oddział rozciągnął się zaraz w bezładną kupę , bo gdy odważniejsi parli konie naprzód , tchórzliwsi wstrzymywali je umyślnie . \n",
      " 6 occurrence:\n",
      "- Bo ją wojewoda poznański i inni wydali pod Ujściem w ręce nieprzyjaciela - odparł Stanisław Skrzetuski . \n",
      " 7 occurrence:\n",
      "- Z pewnością , że to nie wojewoda poznański , z pewnością , że to zgoła inny człowiek - rzekł pan Stanisław Skrzetuski . \n",
      " 8 occurrence:\n",
      "Pan Stanisław Skrzetuski rozbudził się z zamyślenia i rzekł : \n",
      " 9 occurrence:\n",
      "- Zacne jakieś miasto - rzekł Stanisław Skrzetuski . \n",
      " 10 occurrence:\n",
      "- Dziś nikomu nie można wierzyć - odparł posępnie Stanisław Skrzetuski . \n",
      " 11 occurrence:\n",
      "- Widać książę jegomość rzymskie chce u nas zaprowadzić zwyczaje - rzekł Stanisław Skrzetuski - i dyktatorem w czasie wojny zostać . \n",
      " 12 occurrence:\n",
      "- Obaczcie , waćpanowie , że to i ksiądz biskup Parczewski blady jak karta papieru ! - rzekł Stanisław Skrzetuski . \n",
      " 13 occurrence:\n",
      "Lecz dalsze jego słowa przerwał Stanisław Skrzetuski , który porwawszy się obu rękoma za włosy , począł wołać rozpaczliwym głosem : \n",
      " 14 occurrence:\n",
      "- Straszna rzecz , wiarę przechodząca ! - mówił Stanisław Skrzetuski . - Gdzie się coś podobnego działo ? \n",
      " 15 occurrence:\n",
      "- Masz waść przykład na sobie i na nas ! - rzekł Stanisław Skrzetuski . \n",
      " 16 occurrence:\n",
      "- Wołodyjowski , Jan Skrzetuski , Stanisław Skrzetuski , Zagłoba ! - odpowiedzieli nasi rycerze . \n",
      " 17 occurrence:\n",
      "- A pan Zagłoba - rzekł Stanisław Skrzetuski - śpi smaczno i chrapie , zamiast o fortelach myśleć , jak to sobie obiecywał . \n",
      " 18 occurrence:\n",
      "oczom się wierzyć nie chce - mówił Stanisław Skrzetuski . \n",
      " 19 occurrence:\n",
      "- Mówią , że wojewoda witebski okrutnie zacny pan ? - pytał Stanisław Skrzetuski . \n",
      " 20 occurrence:\n",
      "- Ba ! - rzekł Stanisław Skrzetuski - a my tymczasem w Birżach staniemy . \n",
      " 21 occurrence:\n",
      "- Może on tam gdzie czyha ! - rzekł Stanisław Skrzetuski . \n",
      " 22 occurrence:\n",
      "Pokazało się , że jeden pan Stanisław Skrzetuski trochę po niemiecku umiał , gdyż często w domu do Torunia jeździł , ale pisanego i on nie mógł przeczytać . \n",
      " 23 occurrence:\n",
      "- dodał Stanisław Skrzetuski . \n",
      " 24 occurrence:\n",
      "Pan Stanisław Skrzetuski i posępny Józwa Butrym zwany Beznogim szli tuż za nim . \n",
      " 25 occurrence:\n",
      "- Winien on i zasłużył na to , co go spotkało ! - rzekł Stanisław Skrzetuski - ale wolał by m , żeby na jego miejscu był Radziwiłł albo Opaliński ! . . . och , Opaliński ! \n",
      " 26 occurrence:\n",
      "- Dziwny to jest człowiek , w którym , widać , tyle dobrego , co i złego mieszka - rzekł Stanisław Skrzetuski . \n",
      " 27 occurrence:\n",
      "- A jeśli Radziwiłł istotnie nadejdzie ? - pytał Stanisław Skrzetuski - to kto mu się wówczas oprze ? \n",
      " 28 occurrence:\n",
      "- Tu nie ma się co i namyślać - rzekł Stanisław Skrzetuski . \n",
      " 29 occurrence:\n",
      "- Jegomość znasz pana Sapiehę ? - pytał Stanisław Skrzetuski . \n",
      " 30 occurrence:\n",
      "Tu Zagłoba spojrzał z dumą i powagą po obecnych , aż Rzędzian zerwał się z ławy , a pan Stanisław Skrzetuski mruknął : \n",
      " 31 occurrence:\n",
      "- Kto tam zgadnie , czy on się jeszcze za Szwedami nie opowie ? - rzekł Stanisław Skrzetuski . \n",
      " 32 occurrence:\n",
      "- Byle tylko Radziwiłł zaraz nie nadszedł - wtrącił Stanisław Skrzetuski - bo to wódz , jak drugiego nie masz w Rzeczypospolitej , a nasz pan Zagłoba dobry do prowiantowania obozu , ale nie jemu mierzyć się z takim wojennikiem . "
     ]
    }
   ],
   "source": [
    "print_all_contexts_for_name('Stanisław Skrzetuski')"
   ]
  },
  {
   "cell_type": "code",
   "execution_count": 170,
   "metadata": {},
   "outputs": [
    {
     "name": "stdout",
     "output_type": "stream",
     "text": [
      "\n",
      " 1 occurrence:\n",
      "Młodszy jego towarzysz , w długiej peruce i w cudzoziemskim stroju , był to książę Bogusław , stryjeczny Janusza , koniuszy Wielkiego Księstwa Litewskiego . \n",
      " 2 occurrence:\n",
      "Nie mogąc lepiej i dogodniej postąpić w najburzliwszym teraźniejszym rzeczy stanie , po utraceniu wszelkiej nadziei na pomoc najjaśniejszego króla , my , panowie i stany Wielkiego Księstwa Litewskiego , koniecznością zmuszeni , poddajemy się pod protekcję najjaśniejszego króla szwedzkiego na tych warunkach : \n",
      " 3 occurrence:\n",
      "2 / Wielkie Księstwo Litewskie nie będzie do Szwecji wcielone , lecz z nią takim sposobem połączone , jak dotąd z Koroną Polską , to jest , aby naród narodowi , senat senatowi , a rycerstwo rycerstwu we wszystkim było równe . \n",
      " 4 occurrence:\n",
      "Od czasu jak nieśmiertelnej pamięci pan marszałek Wielkiego Księstwa Litewskiego zapisał dobra białostockie na utrzymanie zamku tykocińskiego , ja , będąc tychże dóbr gubernatorem , wiernie i poczciwie wszelkie czynsze na pożytek tegoż zamku obracał em , czego i rejestrami mogę przed całą Rzeczpospolitą dowieść . \n",
      " 5 occurrence:\n",
      "Tak przeszło dwadzieścia lat pracując , opatrywał em on zamek w prochy , działa i spyżę , mając to sobie za święty obowiązek , aby każdy grosz tam szedł , dokąd jaśnie wielmożny marszałek Wielkiego Księstwa Litewskiego iść mu nakazał . \n",
      " 6 occurrence:\n",
      "- Nie śpisz , dobrodzieju , nie śpisz , a żeby ś się jeszcze lepiej przekonał , toć powtórzę cum omnibus titulis : Ja , Bogusław książę Radziwiłł , koniuszy Wielkiego Księstwa Litewskiego , proszę ciebie , Tomasza Billewicza , miecznika rosieńskiego , o rękę synowicy twej , panny łowczanki Aleksandry . "
     ]
    }
   ],
   "source": [
    "print_all_contexts_for_place('wielki księstwo litewski')"
   ]
  },
  {
   "cell_type": "code",
   "execution_count": 171,
   "metadata": {},
   "outputs": [],
   "source": [
    "### Occurrence ranking"
   ]
  },
  {
   "cell_type": "code",
   "execution_count": 153,
   "metadata": {},
   "outputs": [],
   "source": [
    "sorted_names = sorted(names.items(), key=lambda x: len(x[1]), reverse=True)\n",
    "sorted_places = sorted(places.items(), key=lambda x: len(x[1]), reverse=True)"
   ]
  },
  {
   "cell_type": "code",
   "execution_count": 154,
   "metadata": {},
   "outputs": [
    {
     "name": "stdout",
     "output_type": "stream",
     "text": [
      "top 10 occurrrences of names:\n",
      "Kmicic 802\n",
      "Wołodyjowski 587\n",
      "Zagłoba 498\n",
      "Andrzej 417\n",
      "Bogusław 395\n",
      "Czarniecki 274\n",
      "Sapieha 193\n",
      "Miller 182\n",
      "Jan Kazimierz 165\n",
      "Michał 149\n"
     ]
    }
   ],
   "source": [
    "print('top 10 occurrrences of names:')\n",
    "for name in sorted_names[:10]:\n",
    "    print(name[0], len(name[1]))"
   ]
  },
  {
   "cell_type": "code",
   "execution_count": 155,
   "metadata": {},
   "outputs": [
    {
     "name": "stdout",
     "output_type": "stream",
     "text": [
      "top 10 occurrrences of places:\n",
      "Litwa 88\n",
      "rzeczpospolita 78\n",
      "Warszawa 77\n",
      "Częstochowa 68\n",
      "Zamość 49\n",
      "Kiejdanach 48\n",
      "Taurogach 44\n",
      "Szwecja 31\n",
      "Zagłoba 29\n",
      "Niemcy 27\n"
     ]
    }
   ],
   "source": [
    "print('top 10 occurrrences of places:')\n",
    "for place in sorted_places[:10]:\n",
    "    print(place[0], len(place[1]))"
   ]
  }
 ],
 "metadata": {
  "kernelspec": {
   "display_name": "Python 3",
   "language": "python",
   "name": "python3"
  },
  "language_info": {
   "codemirror_mode": {
    "name": "ipython",
    "version": 3
   },
   "file_extension": ".py",
   "mimetype": "text/x-python",
   "name": "python",
   "nbconvert_exporter": "python",
   "pygments_lexer": "ipython3",
   "version": "3.6.4"
  }
 },
 "nbformat": 4,
 "nbformat_minor": 2
}
