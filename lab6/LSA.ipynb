{
 "cells": [
  {
   "cell_type": "code",
   "execution_count": 290,
   "metadata": {},
   "outputs": [],
   "source": [
    "from gensim import corpora, models, utils, similarities\n",
    "from gensim.models import LsiModel"
   ]
  },
  {
   "cell_type": "code",
   "execution_count": 291,
   "metadata": {},
   "outputs": [],
   "source": [
    "import os\n",
    "cwd = os.getcwd()\n",
    "sourcefile = cwd + \"/sources/pap.txt\""
   ]
  },
  {
   "cell_type": "code",
   "execution_count": 292,
   "metadata": {},
   "outputs": [
    {
     "name": "stdout",
     "output_type": "stream",
     "text": [
      "Number of documents: 51574\n"
     ]
    }
   ],
   "source": [
    "documents = []\n",
    "\n",
    "with open(sourcefile) as f: \n",
    "    contents = f.read()\n",
    "    for note in contents.split(\"#\"):\n",
    "            if len(note) > 0:\n",
    "                documents.append(note)\n",
    "       \n",
    "print(\"Number of documents:\",len(documents))"
   ]
  },
  {
   "cell_type": "code",
   "execution_count": 293,
   "metadata": {},
   "outputs": [],
   "source": [
    "stopwordsfile = cwd + \"/sources/stopwords.txt\"\n",
    "stop_words = []\n",
    "\n",
    "with open(stopwordsfile) as f: \n",
    "    contents = f.read()\n",
    "    for word in contents.split(\", \"):\n",
    "            if len(word) > 0:\n",
    "                stop_words.append(word)"
   ]
  },
  {
   "cell_type": "code",
   "execution_count": 294,
   "metadata": {},
   "outputs": [],
   "source": [
    "# Mapping from any form to the base form of a word\n",
    "\n",
    "dictionaryfile = cwd + \"/sources/odm.txt\"\n",
    "word_to_base_form = {}\n",
    "\n",
    "with open(dictionaryfile, 'r', newline='', encoding='latin2') as sourcefile:\n",
    "    content = sourcefile.readlines()\n",
    "    for line in content:\n",
    "        line = line.rstrip()\n",
    "        allForms = line.split(', ')\n",
    "        base_form = allForms[0].lower()\n",
    "        for form in allForms:\n",
    "            word_to_base_form[form] = base_form"
   ]
  },
  {
   "cell_type": "code",
   "execution_count": 295,
   "metadata": {},
   "outputs": [],
   "source": [
    "def primary_form(word):\n",
    "    if word in word_to_base_form.keys():\n",
    "        return word_to_base_form[word]\n",
    "    return word"
   ]
  },
  {
   "cell_type": "code",
   "execution_count": 296,
   "metadata": {},
   "outputs": [],
   "source": [
    "# Conversion to primary form, removing punctuation and skipping stop words\n",
    "\n",
    "from nltk.tokenize import word_tokenize\n",
    "import string\n",
    "texts = [[primary_form(w.lower()) for w in word_tokenize(text) if w not in string.punctuation and w not in stop_words] \n",
    "            for text in documents]"
   ]
  },
  {
   "cell_type": "code",
   "execution_count": 297,
   "metadata": {},
   "outputs": [],
   "source": [
    "# Removing hapax legomena\n",
    "\n",
    "from collections import defaultdict\n",
    "frequency = defaultdict(int)\n",
    "for text in texts:\n",
    "    for token in text:\n",
    "        frequency[token] += 1\n",
    "        \n",
    "texts = [[token for token in text if frequency[token] > 1] for text in texts]"
   ]
  },
  {
   "cell_type": "code",
   "execution_count": 298,
   "metadata": {},
   "outputs": [
    {
     "name": "stdout",
     "output_type": "stream",
     "text": [
      "Dictionary(46611 unique tokens: ['1991-95', '1997', '1998', '59', 'andrzej']...)\n"
     ]
    }
   ],
   "source": [
    "dictionary = corpora.Dictionary(texts)\n",
    "dictionary.save('/tmp/deerwester.dict')\n",
    "print(dictionary)"
   ]
  },
  {
   "cell_type": "code",
   "execution_count": null,
   "metadata": {},
   "outputs": [],
   "source": [
    "# Converting each document into the bag-of-words format\n",
    "\n",
    "corpus = [dictionary.doc2bow(text) for text in texts]\n",
    "corpora.MmCorpus.serialize('/tmp/deerwester.mm', corpus)\n",
    "# print(corpus)"
   ]
  },
  {
   "cell_type": "code",
   "execution_count": null,
   "metadata": {},
   "outputs": [],
   "source": [
    "# Running LSA\n",
    "\n",
    "corpus = corpora.MmCorpus('/tmp/deerwester.mm')\n",
    "id2word = corpora.Dictionary.load('/tmp/deerwester.dict')\n",
    "\n",
    "lsi = models.LsiModel(corpus, id2word=id2word, num_topics=200, chunksize=1)\n",
    "print(lsi)"
   ]
  },
  {
   "cell_type": "code",
   "execution_count": null,
   "metadata": {},
   "outputs": [],
   "source": [
    "# SIMILATIRY"
   ]
  },
  {
   "cell_type": "code",
   "execution_count": null,
   "metadata": {},
   "outputs": [],
   "source": [
    "def experiment(base_note_id, n):\n",
    "    actual_index = base_note_id - 1\n",
    "    query_doc = documents[actual_index] \n",
    "    vec_bow = dictionary.doc2bow(query_doc.lower().split())\n",
    "    vec_lsi = lsi[vec_bow] # convert the query to LSI space\n",
    "    # print(vec_lsi)\n",
    "    \n",
    "    index = similarities.MatrixSimilarity(lsi[corpus])\n",
    "    index.save('/tmp/deerwester.index')\n",
    "    index = similarities.MatrixSimilarity.load('/tmp/deerwester.index')\n",
    "    sims = index[vec_lsi] # perform a similarity query against the corpus\n",
    "    result = list(enumerate(sims))\n",
    "    # print(result)\n",
    "    \n",
    "    top_per_doc = sorted(result, key=lambda x: x[1], reverse=True)[:5]\n",
    "    top_per_doc = list(item[0] for item in top_per_doc)\n",
    "\n",
    "    top_per_doc = [x+1 for x in top_per_doc]\n",
    "    print(top_per_doc)\n",
    "    return top_per_doc"
   ]
  },
  {
   "cell_type": "code",
   "execution_count": null,
   "metadata": {},
   "outputs": [],
   "source": [
    "experiment(121,10)"
   ]
  }
 ],
 "metadata": {
  "kernelspec": {
   "display_name": "Python 3",
   "language": "python",
   "name": "python3"
  },
  "language_info": {
   "codemirror_mode": {
    "name": "ipython",
    "version": 3
   },
   "file_extension": ".py",
   "mimetype": "text/x-python",
   "name": "python",
   "nbconvert_exporter": "python",
   "pygments_lexer": "ipython3",
   "version": "3.6.4"
  }
 },
 "nbformat": 4,
 "nbformat_minor": 2
}
